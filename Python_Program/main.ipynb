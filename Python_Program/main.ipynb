{
 "cells": [
  {
   "cell_type": "code",
   "execution_count": 2,
   "metadata": {},
   "outputs": [
    {
     "name": "stdout",
     "output_type": "stream",
     "text": [
      "============================================================\n",
      "こんにちは！私はRobokonです。あなたの名前は何ですか？\n",
      "============================================================\n",
      "人見\n",
      "============================================================\n",
      "私のオススメのレストランは、Koubeです。\n",
      "\n",
      "このレストランは好きですか？ [Yes/No]\n",
      "============================================================\n",
      "n\n",
      "============================================================\n",
      "私のオススメのレストランは、嵐山です。\n",
      "\n",
      "このレストランは好きですか？ [Yes/No]\n",
      "============================================================\n",
      "y\n",
      "============================================================\n",
      "人見さん。どこのレストランが好きですか？\n",
      "============================================================\n",
      "嵐山\n",
      "\u001b[32m============================================================\n",
      "Robokon: 人見さん。ありがとうございました。\n",
      "\n",
      "\n",
      "良い一日を！さようなら。\n",
      "============================================================\n",
      "\u001b[0m\n"
     ]
    }
   ],
   "source": [
    "import roboter.controller.conversation\n",
    "\n",
    "roboter.controller.conversation.talk_about_restaurant()"
   ]
  },
  {
   "cell_type": "code",
   "execution_count": null,
   "metadata": {},
   "outputs": [],
   "source": []
  }
 ],
 "metadata": {
  "kernelspec": {
   "display_name": "Python 3",
   "language": "python",
   "name": "python3"
  },
  "language_info": {
   "codemirror_mode": {
    "name": "ipython",
    "version": 3
   },
   "file_extension": ".py",
   "mimetype": "text/x-python",
   "name": "python",
   "nbconvert_exporter": "python",
   "pygments_lexer": "ipython3",
   "version": "3.7.7"
  }
 },
 "nbformat": 4,
 "nbformat_minor": 4
}
